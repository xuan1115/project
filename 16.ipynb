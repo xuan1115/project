{
  "nbformat": 4,
  "nbformat_minor": 0,
  "metadata": {
    "colab": {
      "name": "res34_16.ipynb",
      "provenance": [],
      "collapsed_sections": []
    },
    "kernelspec": {
      "name": "python3",
      "display_name": "Python 3"
    },
    "language_info": {
      "name": "python"
    }
  },
  "cells": [
    {
      "cell_type": "code",
      "execution_count": 1,
      "metadata": {
        "id": "1Hee5XeMYZlh"
      },
      "outputs": [],
      "source": [
        "import zipfile\n",
        "import os\n",
        "import pathlib\n",
        "import PIL\n",
        "import tensorflow as tf\n",
        "import pandas as pd\n",
        "import matplotlib.pyplot as plt\n",
        "\n",
        "import random\n",
        "import numpy as np\n",
        "\n",
        "os.environ['KAGGLE_CONFIG_DIR'] = \"/content\""
      ]
    },
    {
      "cell_type": "code",
      "source": [
        "!kaggle datasets download -d paultimothymooney/chest-xray-pneumonia"
      ],
      "metadata": {
        "colab": {
          "base_uri": "https://localhost:8080/"
        },
        "id": "w5hqICB_Ygcr",
        "outputId": "ead946d4-5b91-4b72-d51c-c5ba4bec8b27"
      },
      "execution_count": 2,
      "outputs": [
        {
          "output_type": "stream",
          "name": "stdout",
          "text": [
            "Warning: Your Kaggle API key is readable by other users on this system! To fix this, you can run 'chmod 600 /content/kaggle.json'\n",
            "Downloading chest-xray-pneumonia.zip to /content\n",
            "100% 2.29G/2.29G [00:11<00:00, 260MB/s]\n",
            "100% 2.29G/2.29G [00:11<00:00, 223MB/s]\n"
          ]
        }
      ]
    },
    {
      "cell_type": "code",
      "source": [
        "zip_ref = zipfile.ZipFile('chest-xray-pneumonia.zip', 'r') #Opens the zip file in read mode\n",
        "zip_ref.extractall('/tmp') #Extracts the files into the /tmp folder\n",
        "zip_ref.close()"
      ],
      "metadata": {
        "id": "6bfTvaD7YjIr"
      },
      "execution_count": 3,
      "outputs": []
    },
    {
      "cell_type": "code",
      "source": [
        "!pip install split-folders\n",
        "import splitfolders\n"
      ],
      "metadata": {
        "colab": {
          "base_uri": "https://localhost:8080/"
        },
        "id": "uwxOmBMcefcO",
        "outputId": "c160dddf-c5ff-4a67-de7a-4bca0ea0e7fb"
      },
      "execution_count": 4,
      "outputs": [
        {
          "output_type": "stream",
          "name": "stdout",
          "text": [
            "Collecting split-folders\n",
            "  Downloading split_folders-0.5.1-py3-none-any.whl (8.4 kB)\n",
            "Installing collected packages: split-folders\n",
            "Successfully installed split-folders-0.5.1\n"
          ]
        }
      ]
    },
    {
      "cell_type": "code",
      "source": [
        "splitfolders.ratio(\"/tmp/chest_xray/train\", output=\"/tmp/chest_xray/train2\",\n",
        "    seed=1337, ratio=(.9,.1), group_prefix=None, move=False)"
      ],
      "metadata": {
        "colab": {
          "base_uri": "https://localhost:8080/"
        },
        "id": "bxyOqVp-hgM0",
        "outputId": "b456ac3d-8c62-474e-d51e-6d46de8acd72"
      },
      "execution_count": 5,
      "outputs": [
        {
          "output_type": "stream",
          "name": "stderr",
          "text": [
            "Copying files: 5216 files [00:04, 1164.88 files/s]\n"
          ]
        }
      ]
    },
    {
      "cell_type": "code",
      "source": [
        "train_path = pathlib.Path(\"/tmp/chest_xray/train2/train\")\n",
        "val_path=pathlib.Path(\"/tmp/chest_xray/train2/val\")\n",
        "test_path = pathlib.Path(\"/tmp/chest_xray/test\")"
      ],
      "metadata": {
        "id": "4kDwlMW-ZFPs"
      },
      "execution_count": 6,
      "outputs": []
    },
    {
      "cell_type": "code",
      "source": [
        "batch_size = 130\n",
        "image_width = 128\n",
        "image_height = 128\n",
        "random_state = 100"
      ],
      "metadata": {
        "id": "nsec0Jf4ZTOR"
      },
      "execution_count": 7,
      "outputs": []
    },
    {
      "cell_type": "code",
      "source": [
        "train_data = tf.keras.preprocessing.image_dataset_from_directory(\n",
        "    train_path,\n",
        "    image_size = (image_height, image_width),\n",
        "    batch_size = batch_size\n",
        ")\n",
        "val_data = tf.keras.preprocessing.image_dataset_from_directory(\n",
        "    val_path,\n",
        "    image_size = (image_height, image_width),\n",
        "    batch_size = batch_size\n",
        ")\n",
        "test_data = tf.keras.preprocessing.image_dataset_from_directory(\n",
        "    test_path,\n",
        "    image_size = (image_height, image_width),\n",
        "    batch_size = batch_size\n",
        ")"
      ],
      "metadata": {
        "colab": {
          "base_uri": "https://localhost:8080/"
        },
        "id": "6tSZwPiAZVVb",
        "outputId": "bde87ad2-f04d-45a7-faf2-eab0d3ceec88"
      },
      "execution_count": 8,
      "outputs": [
        {
          "output_type": "stream",
          "name": "stdout",
          "text": [
            "Found 4693 files belonging to 2 classes.\n",
            "Found 523 files belonging to 2 classes.\n",
            "Found 624 files belonging to 2 classes.\n"
          ]
        }
      ]
    },
    {
      "cell_type": "code",
      "source": [
        "class_names = train_data.class_names\n",
        "class_names"
      ],
      "metadata": {
        "colab": {
          "base_uri": "https://localhost:8080/"
        },
        "id": "0YxcE4htZYlk",
        "outputId": "2c43bfdf-9370-4249-e22e-481eefbfa2d8"
      },
      "execution_count": 9,
      "outputs": [
        {
          "output_type": "execute_result",
          "data": {
            "text/plain": [
              "['NORMAL', 'PNEUMONIA']"
            ]
          },
          "metadata": {},
          "execution_count": 9
        }
      ]
    },
    {
      "cell_type": "code",
      "source": [
        "data_augmentation = tf.keras.Sequential([\n",
        "    tf.keras.layers.RandomFlip(\"horizontal\"),\n",
        "    tf.keras.layers.RandomRotation(0.2)]\n",
        ")"
      ],
      "metadata": {
        "id": "OQZI6Y6sZbi6"
      },
      "execution_count": 10,
      "outputs": []
    },
    {
      "cell_type": "code",
      "source": [
        "def identity_block(x, filter):\n",
        "    \n",
        "    x_skip = x\n",
        "    # Layer 1\n",
        "    x = tf.keras.layers.Conv2D(filter, (3,3), padding = 'same')(x)\n",
        "    x = tf.keras.layers.BatchNormalization(axis=3)(x)\n",
        "    x = tf.keras.layers.Activation('relu')(x)\n",
        "    # Layer 2\n",
        "    x = tf.keras.layers.Conv2D(filter, (3,3), padding = 'same')(x)\n",
        "    x = tf.keras.layers.BatchNormalization(axis=3)(x)\n",
        "    # Add Residual\n",
        "    x = tf.keras.layers.Add()([x, x_skip])     \n",
        "    x = tf.keras.layers.Activation('relu')(x)\n",
        "    return x"
      ],
      "metadata": {
        "id": "EY86nDbRZdks"
      },
      "execution_count": 11,
      "outputs": []
    },
    {
      "cell_type": "code",
      "source": [
        "def convolutional_block(x, filter):\n",
        "    \n",
        "    x_skip = x\n",
        "    # Layer 1\n",
        "    x = tf.keras.layers.Conv2D(filter, (3,3), padding = 'same', strides = (2,2))(x)\n",
        "    x = tf.keras.layers.BatchNormalization(axis=3)(x)\n",
        "    x = tf.keras.layers.Activation('relu')(x)\n",
        "    # Layer 2\n",
        "    x = tf.keras.layers.Conv2D(filter, (3,3), padding = 'same')(x)\n",
        "    x = tf.keras.layers.BatchNormalization(axis=3)(x)\n",
        "    \n",
        "    x_skip = tf.keras.layers.Conv2D(filter, (1,1), strides = (2,2))(x_skip)\n",
        "    # Add Residual\n",
        "    x = tf.keras.layers.Add()([x, x_skip])     \n",
        "    x = tf.keras.layers.Activation('relu')(x)\n",
        "    return x"
      ],
      "metadata": {
        "id": "VqSE75dnZgVp"
      },
      "execution_count": 12,
      "outputs": []
    },
    {
      "cell_type": "code",
      "source": [
        "def ResNet34(shape = (128, 128, 3), classes = 2):\n",
        "    \n",
        "    x_input = tf.keras.layers.Input(shape)\n",
        "    x_input= data_augmentation(x_input)\n",
        "    x = tf.keras.layers.ZeroPadding2D((3, 3))(x_input)\n",
        "    x = tf.keras.layers.Conv2D(64, kernel_size=7, strides=2, padding='same')(x)\n",
        "    x = tf.keras.layers.BatchNormalization()(x)\n",
        "    x = tf.keras.layers.Activation('relu')(x)\n",
        "    x = tf.keras.layers.MaxPool2D(pool_size=3, strides=2, padding='same')(x)\n",
        "    block_layers = [3, 4, 6, 3]\n",
        "    filter_size = 64\n",
        "    for i in range(4):\n",
        "        if i == 0:\n",
        "            for j in range(block_layers[i]):\n",
        "                x = identity_block(x, filter_size)\n",
        "        else:\n",
        "            filter_size = filter_size*2\n",
        "            x = convolutional_block(x, filter_size)\n",
        "            for j in range(block_layers[i] - 1):\n",
        "                x = identity_block(x, filter_size)\n",
        "    x = tf.keras.layers.AveragePooling2D((2,2), padding = 'same')(x)\n",
        "    x = tf.keras.layers.Flatten()(x)\n",
        "    x = tf.keras.layers.Dense(512, activation = 'relu')(x)\n",
        "    ##x = tf.keras.layers.GlobalAveragePooling2D(x)\n",
        "    x = tf.keras.layers.Dropout(0.2)(x)\n",
        "    x = tf.keras.layers.Dense(1, activation = 'sigmoid')(x)\n",
        "    model = tf.keras.models.Model(inputs = x_input, outputs = x, name = \"ResNet34\")\n",
        "    return model"
      ],
      "metadata": {
        "id": "jyQjNG0gZkRo"
      },
      "execution_count": 13,
      "outputs": []
    },
    {
      "cell_type": "code",
      "source": [
        "model=ResNet34(shape = (128, 128, 3), classes = 2)\n",
        "opt=tf.keras.optimizers.Adam(learning_rate = 0.00001)\n",
        "model.compile(optimizer=opt, loss='binary_crossentropy', metrics=['accuracy'])\n",
        "model.summary()"
      ],
      "metadata": {
        "id": "0v8sXeNGZn8W",
        "colab": {
          "base_uri": "https://localhost:8080/"
        },
        "outputId": "98298aec-ee8b-4491-e142-8f85b34b8d45"
      },
      "execution_count": 14,
      "outputs": [
        {
          "output_type": "stream",
          "name": "stdout",
          "text": [
            "Model: \"ResNet34\"\n",
            "__________________________________________________________________________________________________\n",
            " Layer (type)                   Output Shape         Param #     Connected to                     \n",
            "==================================================================================================\n",
            " input_2 (InputLayer)           [(None, 128, 128, 3  0           []                               \n",
            "                                )]                                                                \n",
            "                                                                                                  \n",
            " zero_padding2d (ZeroPadding2D)  (None, 134, 134, 3)  0          ['input_2[0][0]']                \n",
            "                                                                                                  \n",
            " conv2d (Conv2D)                (None, 67, 67, 64)   9472        ['zero_padding2d[1][0]']         \n",
            "                                                                                                  \n",
            " batch_normalization (BatchNorm  (None, 67, 67, 64)  256         ['conv2d[1][0]']                 \n",
            " alization)                                                                                       \n",
            "                                                                                                  \n",
            " activation (Activation)        (None, 67, 67, 64)   0           ['batch_normalization[1][0]']    \n",
            "                                                                                                  \n",
            " max_pooling2d (MaxPooling2D)   (None, 34, 34, 64)   0           ['activation[1][0]']             \n",
            "                                                                                                  \n",
            " conv2d_1 (Conv2D)              (None, 34, 34, 64)   36928       ['max_pooling2d[1][0]']          \n",
            "                                                                                                  \n",
            " batch_normalization_1 (BatchNo  (None, 34, 34, 64)  256         ['conv2d_1[1][0]']               \n",
            " rmalization)                                                                                     \n",
            "                                                                                                  \n",
            " activation_1 (Activation)      (None, 34, 34, 64)   0           ['batch_normalization_1[1][0]']  \n",
            "                                                                                                  \n",
            " conv2d_2 (Conv2D)              (None, 34, 34, 64)   36928       ['activation_1[1][0]']           \n",
            "                                                                                                  \n",
            " batch_normalization_2 (BatchNo  (None, 34, 34, 64)  256         ['conv2d_2[1][0]']               \n",
            " rmalization)                                                                                     \n",
            "                                                                                                  \n",
            " add (Add)                      (None, 34, 34, 64)   0           ['batch_normalization_2[1][0]',  \n",
            "                                                                  'max_pooling2d[1][0]']          \n",
            "                                                                                                  \n",
            " activation_2 (Activation)      (None, 34, 34, 64)   0           ['add[1][0]']                    \n",
            "                                                                                                  \n",
            " conv2d_3 (Conv2D)              (None, 34, 34, 64)   36928       ['activation_2[1][0]']           \n",
            "                                                                                                  \n",
            " batch_normalization_3 (BatchNo  (None, 34, 34, 64)  256         ['conv2d_3[1][0]']               \n",
            " rmalization)                                                                                     \n",
            "                                                                                                  \n",
            " activation_3 (Activation)      (None, 34, 34, 64)   0           ['batch_normalization_3[1][0]']  \n",
            "                                                                                                  \n",
            " conv2d_4 (Conv2D)              (None, 34, 34, 64)   36928       ['activation_3[1][0]']           \n",
            "                                                                                                  \n",
            " batch_normalization_4 (BatchNo  (None, 34, 34, 64)  256         ['conv2d_4[1][0]']               \n",
            " rmalization)                                                                                     \n",
            "                                                                                                  \n",
            " add_1 (Add)                    (None, 34, 34, 64)   0           ['batch_normalization_4[1][0]',  \n",
            "                                                                  'activation_2[1][0]']           \n",
            "                                                                                                  \n",
            " activation_4 (Activation)      (None, 34, 34, 64)   0           ['add_1[1][0]']                  \n",
            "                                                                                                  \n",
            " conv2d_5 (Conv2D)              (None, 34, 34, 64)   36928       ['activation_4[1][0]']           \n",
            "                                                                                                  \n",
            " batch_normalization_5 (BatchNo  (None, 34, 34, 64)  256         ['conv2d_5[1][0]']               \n",
            " rmalization)                                                                                     \n",
            "                                                                                                  \n",
            " activation_5 (Activation)      (None, 34, 34, 64)   0           ['batch_normalization_5[1][0]']  \n",
            "                                                                                                  \n",
            " conv2d_6 (Conv2D)              (None, 34, 34, 64)   36928       ['activation_5[1][0]']           \n",
            "                                                                                                  \n",
            " batch_normalization_6 (BatchNo  (None, 34, 34, 64)  256         ['conv2d_6[1][0]']               \n",
            " rmalization)                                                                                     \n",
            "                                                                                                  \n",
            " add_2 (Add)                    (None, 34, 34, 64)   0           ['batch_normalization_6[1][0]',  \n",
            "                                                                  'activation_4[1][0]']           \n",
            "                                                                                                  \n",
            " activation_6 (Activation)      (None, 34, 34, 64)   0           ['add_2[1][0]']                  \n",
            "                                                                                                  \n",
            " conv2d_7 (Conv2D)              (None, 17, 17, 128)  73856       ['activation_6[1][0]']           \n",
            "                                                                                                  \n",
            " batch_normalization_7 (BatchNo  (None, 17, 17, 128)  512        ['conv2d_7[1][0]']               \n",
            " rmalization)                                                                                     \n",
            "                                                                                                  \n",
            " activation_7 (Activation)      (None, 17, 17, 128)  0           ['batch_normalization_7[1][0]']  \n",
            "                                                                                                  \n",
            " conv2d_8 (Conv2D)              (None, 17, 17, 128)  147584      ['activation_7[1][0]']           \n",
            "                                                                                                  \n",
            " batch_normalization_8 (BatchNo  (None, 17, 17, 128)  512        ['conv2d_8[1][0]']               \n",
            " rmalization)                                                                                     \n",
            "                                                                                                  \n",
            " conv2d_9 (Conv2D)              (None, 17, 17, 128)  8320        ['activation_6[1][0]']           \n",
            "                                                                                                  \n",
            " add_3 (Add)                    (None, 17, 17, 128)  0           ['batch_normalization_8[1][0]',  \n",
            "                                                                  'conv2d_9[1][0]']               \n",
            "                                                                                                  \n",
            " activation_8 (Activation)      (None, 17, 17, 128)  0           ['add_3[1][0]']                  \n",
            "                                                                                                  \n",
            " conv2d_10 (Conv2D)             (None, 17, 17, 128)  147584      ['activation_8[1][0]']           \n",
            "                                                                                                  \n",
            " batch_normalization_9 (BatchNo  (None, 17, 17, 128)  512        ['conv2d_10[1][0]']              \n",
            " rmalization)                                                                                     \n",
            "                                                                                                  \n",
            " activation_9 (Activation)      (None, 17, 17, 128)  0           ['batch_normalization_9[1][0]']  \n",
            "                                                                                                  \n",
            " conv2d_11 (Conv2D)             (None, 17, 17, 128)  147584      ['activation_9[1][0]']           \n",
            "                                                                                                  \n",
            " batch_normalization_10 (BatchN  (None, 17, 17, 128)  512        ['conv2d_11[1][0]']              \n",
            " ormalization)                                                                                    \n",
            "                                                                                                  \n",
            " add_4 (Add)                    (None, 17, 17, 128)  0           ['batch_normalization_10[1][0]', \n",
            "                                                                  'activation_8[1][0]']           \n",
            "                                                                                                  \n",
            " activation_10 (Activation)     (None, 17, 17, 128)  0           ['add_4[1][0]']                  \n",
            "                                                                                                  \n",
            " conv2d_12 (Conv2D)             (None, 17, 17, 128)  147584      ['activation_10[1][0]']          \n",
            "                                                                                                  \n",
            " batch_normalization_11 (BatchN  (None, 17, 17, 128)  512        ['conv2d_12[1][0]']              \n",
            " ormalization)                                                                                    \n",
            "                                                                                                  \n",
            " activation_11 (Activation)     (None, 17, 17, 128)  0           ['batch_normalization_11[1][0]'] \n",
            "                                                                                                  \n",
            " conv2d_13 (Conv2D)             (None, 17, 17, 128)  147584      ['activation_11[1][0]']          \n",
            "                                                                                                  \n",
            " batch_normalization_12 (BatchN  (None, 17, 17, 128)  512        ['conv2d_13[1][0]']              \n",
            " ormalization)                                                                                    \n",
            "                                                                                                  \n",
            " add_5 (Add)                    (None, 17, 17, 128)  0           ['batch_normalization_12[1][0]', \n",
            "                                                                  'activation_10[1][0]']          \n",
            "                                                                                                  \n",
            " activation_12 (Activation)     (None, 17, 17, 128)  0           ['add_5[1][0]']                  \n",
            "                                                                                                  \n",
            " conv2d_14 (Conv2D)             (None, 17, 17, 128)  147584      ['activation_12[1][0]']          \n",
            "                                                                                                  \n",
            " batch_normalization_13 (BatchN  (None, 17, 17, 128)  512        ['conv2d_14[1][0]']              \n",
            " ormalization)                                                                                    \n",
            "                                                                                                  \n",
            " activation_13 (Activation)     (None, 17, 17, 128)  0           ['batch_normalization_13[1][0]'] \n",
            "                                                                                                  \n",
            " conv2d_15 (Conv2D)             (None, 17, 17, 128)  147584      ['activation_13[1][0]']          \n",
            "                                                                                                  \n",
            " batch_normalization_14 (BatchN  (None, 17, 17, 128)  512        ['conv2d_15[1][0]']              \n",
            " ormalization)                                                                                    \n",
            "                                                                                                  \n",
            " add_6 (Add)                    (None, 17, 17, 128)  0           ['batch_normalization_14[1][0]', \n",
            "                                                                  'activation_12[1][0]']          \n",
            "                                                                                                  \n",
            " activation_14 (Activation)     (None, 17, 17, 128)  0           ['add_6[1][0]']                  \n",
            "                                                                                                  \n",
            " conv2d_16 (Conv2D)             (None, 9, 9, 256)    295168      ['activation_14[1][0]']          \n",
            "                                                                                                  \n",
            " batch_normalization_15 (BatchN  (None, 9, 9, 256)   1024        ['conv2d_16[1][0]']              \n",
            " ormalization)                                                                                    \n",
            "                                                                                                  \n",
            " activation_15 (Activation)     (None, 9, 9, 256)    0           ['batch_normalization_15[1][0]'] \n",
            "                                                                                                  \n",
            " conv2d_17 (Conv2D)             (None, 9, 9, 256)    590080      ['activation_15[1][0]']          \n",
            "                                                                                                  \n",
            " batch_normalization_16 (BatchN  (None, 9, 9, 256)   1024        ['conv2d_17[1][0]']              \n",
            " ormalization)                                                                                    \n",
            "                                                                                                  \n",
            " conv2d_18 (Conv2D)             (None, 9, 9, 256)    33024       ['activation_14[1][0]']          \n",
            "                                                                                                  \n",
            " add_7 (Add)                    (None, 9, 9, 256)    0           ['batch_normalization_16[1][0]', \n",
            "                                                                  'conv2d_18[1][0]']              \n",
            "                                                                                                  \n",
            " activation_16 (Activation)     (None, 9, 9, 256)    0           ['add_7[1][0]']                  \n",
            "                                                                                                  \n",
            " conv2d_19 (Conv2D)             (None, 9, 9, 256)    590080      ['activation_16[1][0]']          \n",
            "                                                                                                  \n",
            " batch_normalization_17 (BatchN  (None, 9, 9, 256)   1024        ['conv2d_19[1][0]']              \n",
            " ormalization)                                                                                    \n",
            "                                                                                                  \n",
            " activation_17 (Activation)     (None, 9, 9, 256)    0           ['batch_normalization_17[1][0]'] \n",
            "                                                                                                  \n",
            " conv2d_20 (Conv2D)             (None, 9, 9, 256)    590080      ['activation_17[1][0]']          \n",
            "                                                                                                  \n",
            " batch_normalization_18 (BatchN  (None, 9, 9, 256)   1024        ['conv2d_20[1][0]']              \n",
            " ormalization)                                                                                    \n",
            "                                                                                                  \n",
            " add_8 (Add)                    (None, 9, 9, 256)    0           ['batch_normalization_18[1][0]', \n",
            "                                                                  'activation_16[1][0]']          \n",
            "                                                                                                  \n",
            " activation_18 (Activation)     (None, 9, 9, 256)    0           ['add_8[1][0]']                  \n",
            "                                                                                                  \n",
            " conv2d_21 (Conv2D)             (None, 9, 9, 256)    590080      ['activation_18[1][0]']          \n",
            "                                                                                                  \n",
            " batch_normalization_19 (BatchN  (None, 9, 9, 256)   1024        ['conv2d_21[1][0]']              \n",
            " ormalization)                                                                                    \n",
            "                                                                                                  \n",
            " activation_19 (Activation)     (None, 9, 9, 256)    0           ['batch_normalization_19[1][0]'] \n",
            "                                                                                                  \n",
            " conv2d_22 (Conv2D)             (None, 9, 9, 256)    590080      ['activation_19[1][0]']          \n",
            "                                                                                                  \n",
            " batch_normalization_20 (BatchN  (None, 9, 9, 256)   1024        ['conv2d_22[1][0]']              \n",
            " ormalization)                                                                                    \n",
            "                                                                                                  \n",
            " add_9 (Add)                    (None, 9, 9, 256)    0           ['batch_normalization_20[1][0]', \n",
            "                                                                  'activation_18[1][0]']          \n",
            "                                                                                                  \n",
            " activation_20 (Activation)     (None, 9, 9, 256)    0           ['add_9[1][0]']                  \n",
            "                                                                                                  \n",
            " conv2d_23 (Conv2D)             (None, 9, 9, 256)    590080      ['activation_20[1][0]']          \n",
            "                                                                                                  \n",
            " batch_normalization_21 (BatchN  (None, 9, 9, 256)   1024        ['conv2d_23[1][0]']              \n",
            " ormalization)                                                                                    \n",
            "                                                                                                  \n",
            " activation_21 (Activation)     (None, 9, 9, 256)    0           ['batch_normalization_21[1][0]'] \n",
            "                                                                                                  \n",
            " conv2d_24 (Conv2D)             (None, 9, 9, 256)    590080      ['activation_21[1][0]']          \n",
            "                                                                                                  \n",
            " batch_normalization_22 (BatchN  (None, 9, 9, 256)   1024        ['conv2d_24[1][0]']              \n",
            " ormalization)                                                                                    \n",
            "                                                                                                  \n",
            " add_10 (Add)                   (None, 9, 9, 256)    0           ['batch_normalization_22[1][0]', \n",
            "                                                                  'activation_20[1][0]']          \n",
            "                                                                                                  \n",
            " activation_22 (Activation)     (None, 9, 9, 256)    0           ['add_10[1][0]']                 \n",
            "                                                                                                  \n",
            " conv2d_25 (Conv2D)             (None, 9, 9, 256)    590080      ['activation_22[1][0]']          \n",
            "                                                                                                  \n",
            " batch_normalization_23 (BatchN  (None, 9, 9, 256)   1024        ['conv2d_25[1][0]']              \n",
            " ormalization)                                                                                    \n",
            "                                                                                                  \n",
            " activation_23 (Activation)     (None, 9, 9, 256)    0           ['batch_normalization_23[1][0]'] \n",
            "                                                                                                  \n",
            " conv2d_26 (Conv2D)             (None, 9, 9, 256)    590080      ['activation_23[1][0]']          \n",
            "                                                                                                  \n",
            " batch_normalization_24 (BatchN  (None, 9, 9, 256)   1024        ['conv2d_26[1][0]']              \n",
            " ormalization)                                                                                    \n",
            "                                                                                                  \n",
            " add_11 (Add)                   (None, 9, 9, 256)    0           ['batch_normalization_24[1][0]', \n",
            "                                                                  'activation_22[1][0]']          \n",
            "                                                                                                  \n",
            " activation_24 (Activation)     (None, 9, 9, 256)    0           ['add_11[1][0]']                 \n",
            "                                                                                                  \n",
            " conv2d_27 (Conv2D)             (None, 9, 9, 256)    590080      ['activation_24[1][0]']          \n",
            "                                                                                                  \n",
            " batch_normalization_25 (BatchN  (None, 9, 9, 256)   1024        ['conv2d_27[1][0]']              \n",
            " ormalization)                                                                                    \n",
            "                                                                                                  \n",
            " activation_25 (Activation)     (None, 9, 9, 256)    0           ['batch_normalization_25[1][0]'] \n",
            "                                                                                                  \n",
            " conv2d_28 (Conv2D)             (None, 9, 9, 256)    590080      ['activation_25[1][0]']          \n",
            "                                                                                                  \n",
            " batch_normalization_26 (BatchN  (None, 9, 9, 256)   1024        ['conv2d_28[1][0]']              \n",
            " ormalization)                                                                                    \n",
            "                                                                                                  \n",
            " add_12 (Add)                   (None, 9, 9, 256)    0           ['batch_normalization_26[1][0]', \n",
            "                                                                  'activation_24[1][0]']          \n",
            "                                                                                                  \n",
            " activation_26 (Activation)     (None, 9, 9, 256)    0           ['add_12[1][0]']                 \n",
            "                                                                                                  \n",
            " conv2d_29 (Conv2D)             (None, 5, 5, 512)    1180160     ['activation_26[1][0]']          \n",
            "                                                                                                  \n",
            " batch_normalization_27 (BatchN  (None, 5, 5, 512)   2048        ['conv2d_29[1][0]']              \n",
            " ormalization)                                                                                    \n",
            "                                                                                                  \n",
            " activation_27 (Activation)     (None, 5, 5, 512)    0           ['batch_normalization_27[1][0]'] \n",
            "                                                                                                  \n",
            " conv2d_30 (Conv2D)             (None, 5, 5, 512)    2359808     ['activation_27[1][0]']          \n",
            "                                                                                                  \n",
            " batch_normalization_28 (BatchN  (None, 5, 5, 512)   2048        ['conv2d_30[1][0]']              \n",
            " ormalization)                                                                                    \n",
            "                                                                                                  \n",
            " conv2d_31 (Conv2D)             (None, 5, 5, 512)    131584      ['activation_26[1][0]']          \n",
            "                                                                                                  \n",
            " add_13 (Add)                   (None, 5, 5, 512)    0           ['batch_normalization_28[1][0]', \n",
            "                                                                  'conv2d_31[1][0]']              \n",
            "                                                                                                  \n",
            " activation_28 (Activation)     (None, 5, 5, 512)    0           ['add_13[1][0]']                 \n",
            "                                                                                                  \n",
            " conv2d_32 (Conv2D)             (None, 5, 5, 512)    2359808     ['activation_28[1][0]']          \n",
            "                                                                                                  \n",
            " batch_normalization_29 (BatchN  (None, 5, 5, 512)   2048        ['conv2d_32[1][0]']              \n",
            " ormalization)                                                                                    \n",
            "                                                                                                  \n",
            " activation_29 (Activation)     (None, 5, 5, 512)    0           ['batch_normalization_29[1][0]'] \n",
            "                                                                                                  \n",
            " conv2d_33 (Conv2D)             (None, 5, 5, 512)    2359808     ['activation_29[1][0]']          \n",
            "                                                                                                  \n",
            " batch_normalization_30 (BatchN  (None, 5, 5, 512)   2048        ['conv2d_33[1][0]']              \n",
            " ormalization)                                                                                    \n",
            "                                                                                                  \n",
            " add_14 (Add)                   (None, 5, 5, 512)    0           ['batch_normalization_30[1][0]', \n",
            "                                                                  'activation_28[1][0]']          \n",
            "                                                                                                  \n",
            " activation_30 (Activation)     (None, 5, 5, 512)    0           ['add_14[1][0]']                 \n",
            "                                                                                                  \n",
            " conv2d_34 (Conv2D)             (None, 5, 5, 512)    2359808     ['activation_30[1][0]']          \n",
            "                                                                                                  \n",
            " batch_normalization_31 (BatchN  (None, 5, 5, 512)   2048        ['conv2d_34[1][0]']              \n",
            " ormalization)                                                                                    \n",
            "                                                                                                  \n",
            " activation_31 (Activation)     (None, 5, 5, 512)    0           ['batch_normalization_31[1][0]'] \n",
            "                                                                                                  \n",
            " conv2d_35 (Conv2D)             (None, 5, 5, 512)    2359808     ['activation_31[1][0]']          \n",
            "                                                                                                  \n",
            " batch_normalization_32 (BatchN  (None, 5, 5, 512)   2048        ['conv2d_35[1][0]']              \n",
            " ormalization)                                                                                    \n",
            "                                                                                                  \n",
            " add_15 (Add)                   (None, 5, 5, 512)    0           ['batch_normalization_32[1][0]', \n",
            "                                                                  'activation_30[1][0]']          \n",
            "                                                                                                  \n",
            " activation_32 (Activation)     (None, 5, 5, 512)    0           ['add_15[1][0]']                 \n",
            "                                                                                                  \n",
            " average_pooling2d (AveragePool  (None, 3, 3, 512)   0           ['activation_32[1][0]']          \n",
            " ing2D)                                                                                           \n",
            "                                                                                                  \n",
            " flatten (Flatten)              (None, 4608)         0           ['average_pooling2d[1][0]']      \n",
            "                                                                                                  \n",
            " dense (Dense)                  (None, 512)          2359808     ['flatten[1][0]']                \n",
            "                                                                                                  \n",
            " dropout (Dropout)              (None, 512)          0           ['dense[1][0]']                  \n",
            "                                                                                                  \n",
            " dense_1 (Dense)                (None, 1)            513         ['dropout[1][0]']                \n",
            "                                                                                                  \n",
            "==================================================================================================\n",
            "Total params: 23,666,945\n",
            "Trainable params: 23,651,713\n",
            "Non-trainable params: 15,232\n",
            "__________________________________________________________________________________________________\n"
          ]
        }
      ]
    },
    {
      "cell_type": "code",
      "source": [
        "class_weight = {0: 3,\n",
        "                1: 1}\n",
        "early_stopping = tf.keras.callbacks.EarlyStopping(monitor=\"val_loss\", patience = 4)\n",
        "history = model.fit(train_data, validation_data=val_data, batch_size=130, epochs=5,class_weight=class_weight,callbacks=[early_stopping])"
      ],
      "metadata": {
        "colab": {
          "base_uri": "https://localhost:8080/"
        },
        "id": "iwHetjy-apJj",
        "outputId": "6b0886e7-f09d-40fb-a931-b50bfbbf4488"
      },
      "execution_count": 15,
      "outputs": [
        {
          "output_type": "stream",
          "name": "stdout",
          "text": [
            "Epoch 1/5\n",
            "37/37 [==============================] - 1058s 28s/step - loss: 0.6330 - accuracy: 0.8106 - val_loss: 0.6346 - val_accuracy: 0.6539\n",
            "Epoch 2/5\n",
            "37/37 [==============================] - 1073s 29s/step - loss: 0.2038 - accuracy: 0.9497 - val_loss: 1.3090 - val_accuracy: 0.3174\n",
            "Epoch 3/5\n",
            "37/37 [==============================] - 1096s 29s/step - loss: 0.1037 - accuracy: 0.9785 - val_loss: 0.6375 - val_accuracy: 0.6272\n",
            "Epoch 4/5\n",
            "37/37 [==============================] - 1086s 29s/step - loss: 0.0569 - accuracy: 0.9913 - val_loss: 0.2792 - val_accuracy: 0.9082\n",
            "Epoch 5/5\n",
            "37/37 [==============================] - 1080s 29s/step - loss: 0.0336 - accuracy: 0.9970 - val_loss: 0.1722 - val_accuracy: 0.9273\n"
          ]
        }
      ]
    },
    {
      "cell_type": "code",
      "source": [
        "import seaborn as sb\n",
        "import matplotlib.pyplot as plt\n",
        "\n",
        "sb.lineplot(x = range(len(history.history[\"loss\"])), y = history.history[\"loss\"], label = \"Training\")\n",
        "sb.lineplot(x = range(len(history.history[\"loss\"])), y = history.history[\"val_loss\"], label = \"Validation\")\n",
        "plt.ylabel(\"Loss\")\n",
        "plt.xlabel(\"Epochs\")\n",
        "plt.legend()"
      ],
      "metadata": {
        "id": "cp2TMYxGi6Cl",
        "colab": {
          "base_uri": "https://localhost:8080/",
          "height": 297
        },
        "outputId": "e1131699-626b-4c58-e5bd-7d19c52aa583"
      },
      "execution_count": 16,
      "outputs": [
        {
          "output_type": "execute_result",
          "data": {
            "text/plain": [
              "<matplotlib.legend.Legend at 0x7f456611e7d0>"
            ]
          },
          "metadata": {},
          "execution_count": 16
        },
        {
          "output_type": "display_data",
          "data": {
            "text/plain": [
              "<Figure size 432x288 with 1 Axes>"
            ],
            "image/png": "[encoded data removed]"
          },
          "metadata": {
            "needs_background": "light"
          }
        }
      ]
    },
    {
      "cell_type": "code",
      "source": [
        "sb.lineplot(x = range(len(history.history[\"loss\"])), y = history.history[\"accuracy\"], label = \"Training\")\n",
        "sb.lineplot(x = range(len(history.history[\"loss\"])), y = history.history[\"val_accuracy\"], label = \"Validation\")\n",
        "plt.ylabel(\"Accuracy\")\n",
        "plt.xlabel(\"Epochs\")\n",
        "plt.legend(loc = \"lower right\")"
      ],
      "metadata": {
        "id": "pT8IiLSmi8R6",
        "colab": {
          "base_uri": "https://localhost:8080/",
          "height": 297
        },
        "outputId": "175a0f38-0b7b-40b8-f157-2bbd6dc73e1f"
      },
      "execution_count": 17,
      "outputs": [
        {
          "output_type": "execute_result",
          "data": {
            "text/plain": [
              "<matplotlib.legend.Legend at 0x7f4565a32d50>"
            ]
          },
          "metadata": {},
          "execution_count": 17
        },
        {
          "output_type": "display_data",
          "data": {
            "text/plain": [
              "<Figure size 432x288 with 1 Axes>"
            ],
            "image/png": "[encoded data removed]"
          },
          "metadata": {
            "needs_background": "light"
          }
        }
      ]
    },
    {
      "cell_type": "code",
      "source": [
        "result_resnet = model.evaluate(test_data)\n",
        "print(f\"Loss: {result_resnet[0]}\")\n",
        "print(f\"Accuracy: {result_resnet[1] }\")"
      ],
      "metadata": {
        "id": "9798tFOci-tC",
        "colab": {
          "base_uri": "https://localhost:8080/"
        },
        "outputId": "38b5412f-822b-4fb8-be4f-93a557e3ea4b"
      },
      "execution_count": 18,
      "outputs": [
        {
          "output_type": "stream",
          "name": "stdout",
          "text": [
            "5/5 [==============================] - 32s 6s/step - loss: 0.4587 - accuracy: 0.7804\n",
            "Loss: 0.45866599678993225\n",
            "Accuracy: 0.7804487347602844\n"
          ]
        }
      ]
    }
  ]
}